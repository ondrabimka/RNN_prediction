{
 "cells": [
  {
   "cell_type": "markdown",
   "metadata": {},
   "source": [
    "# Getting data using yfinance\n",
    "\n",
    "Here is an exampe how to get data using yfinance python library. (https://pypi.org/project/yfinance/)"
   ]
  },
  {
   "cell_type": "code",
   "execution_count": 1,
   "metadata": {},
   "outputs": [],
   "source": [
    "import yfinance as yf # possible alternative http://theautomatic.net/yahoo_fin-documentation/\n",
    "import datetime as dt\n",
    "import numpy as np\n",
    "import tensorflow as tf\n",
    "import time\n",
    "import pandas as pd\n",
    "from pandas_datareader import data as pdr\n",
    "\n",
    "yf.pdr_override()"
   ]
  },
  {
   "cell_type": "markdown",
   "metadata": {},
   "source": [
    "Save data to dataframe"
   ]
  },
  {
   "cell_type": "code",
   "execution_count": 2,
   "metadata": {},
   "outputs": [
    {
     "name": "stdout",
     "output_type": "stream",
     "text": [
      "[*********************100%***********************]  1 of 1 completed\n"
     ]
    }
   ],
   "source": [
    " df = pdr.get_data_yahoo(\"BTC-USD\", period=\"7d\", interval=\"1m\")"
   ]
  },
  {
   "cell_type": "code",
   "execution_count": 3,
   "metadata": {},
   "outputs": [
    {
     "data": {
      "text/plain": [
       "(8783, 6)"
      ]
     },
     "execution_count": 3,
     "metadata": {},
     "output_type": "execute_result"
    }
   ],
   "source": [
    "df.shape"
   ]
  },
  {
   "cell_type": "code",
   "execution_count": 4,
   "metadata": {},
   "outputs": [
    {
     "name": "stdout",
     "output_type": "stream",
     "text": [
      "<class 'pandas.core.frame.DataFrame'>\n",
      "DatetimeIndex: 8783 entries, 2020-11-28 00:00:00+00:00 to 2020-12-04 11:16:02+00:00\n",
      "Data columns (total 6 columns):\n",
      " #   Column     Non-Null Count  Dtype  \n",
      "---  ------     --------------  -----  \n",
      " 0   Open       8783 non-null   float64\n",
      " 1   High       8783 non-null   float64\n",
      " 2   Low        8783 non-null   float64\n",
      " 3   Close      8783 non-null   float64\n",
      " 4   Adj Close  8783 non-null   float64\n",
      " 5   Volume     8783 non-null   int64  \n",
      "dtypes: float64(5), int64(1)\n",
      "memory usage: 480.3 KB\n"
     ]
    }
   ],
   "source": [
    "df.info()"
   ]
  },
  {
   "cell_type": "code",
   "execution_count": 5,
   "metadata": {},
   "outputs": [
    {
     "data": {
      "text/html": [
       "<div>\n",
       "<style scoped>\n",
       "    .dataframe tbody tr th:only-of-type {\n",
       "        vertical-align: middle;\n",
       "    }\n",
       "\n",
       "    .dataframe tbody tr th {\n",
       "        vertical-align: top;\n",
       "    }\n",
       "\n",
       "    .dataframe thead th {\n",
       "        text-align: right;\n",
       "    }\n",
       "</style>\n",
       "<table border=\"1\" class=\"dataframe\">\n",
       "  <thead>\n",
       "    <tr style=\"text-align: right;\">\n",
       "      <th></th>\n",
       "      <th>Open</th>\n",
       "      <th>High</th>\n",
       "      <th>Low</th>\n",
       "      <th>Close</th>\n",
       "      <th>Adj Close</th>\n",
       "      <th>Volume</th>\n",
       "    </tr>\n",
       "    <tr>\n",
       "      <th>Datetime</th>\n",
       "      <th></th>\n",
       "      <th></th>\n",
       "      <th></th>\n",
       "      <th></th>\n",
       "      <th></th>\n",
       "      <th></th>\n",
       "    </tr>\n",
       "  </thead>\n",
       "  <tbody>\n",
       "    <tr>\n",
       "      <th>2020-11-28 00:00:00+00:00</th>\n",
       "      <td>17112.933594</td>\n",
       "      <td>17112.933594</td>\n",
       "      <td>17112.933594</td>\n",
       "      <td>17112.933594</td>\n",
       "      <td>17112.933594</td>\n",
       "      <td>0</td>\n",
       "    </tr>\n",
       "    <tr>\n",
       "      <th>2020-11-28 00:01:00+00:00</th>\n",
       "      <td>17134.396484</td>\n",
       "      <td>17134.396484</td>\n",
       "      <td>17134.396484</td>\n",
       "      <td>17134.396484</td>\n",
       "      <td>17134.396484</td>\n",
       "      <td>0</td>\n",
       "    </tr>\n",
       "    <tr>\n",
       "      <th>2020-11-28 00:02:00+00:00</th>\n",
       "      <td>17137.853516</td>\n",
       "      <td>17137.853516</td>\n",
       "      <td>17137.853516</td>\n",
       "      <td>17137.853516</td>\n",
       "      <td>17137.853516</td>\n",
       "      <td>39432192</td>\n",
       "    </tr>\n",
       "    <tr>\n",
       "      <th>2020-11-28 00:03:00+00:00</th>\n",
       "      <td>17131.585938</td>\n",
       "      <td>17131.585938</td>\n",
       "      <td>17131.585938</td>\n",
       "      <td>17131.585938</td>\n",
       "      <td>17131.585938</td>\n",
       "      <td>10248192</td>\n",
       "    </tr>\n",
       "    <tr>\n",
       "      <th>2020-11-28 00:04:00+00:00</th>\n",
       "      <td>17115.552734</td>\n",
       "      <td>17115.552734</td>\n",
       "      <td>17115.552734</td>\n",
       "      <td>17115.552734</td>\n",
       "      <td>17115.552734</td>\n",
       "      <td>0</td>\n",
       "    </tr>\n",
       "    <tr>\n",
       "      <th>2020-11-28 00:05:00+00:00</th>\n",
       "      <td>17111.421875</td>\n",
       "      <td>17111.421875</td>\n",
       "      <td>17111.421875</td>\n",
       "      <td>17111.421875</td>\n",
       "      <td>17111.421875</td>\n",
       "      <td>0</td>\n",
       "    </tr>\n",
       "    <tr>\n",
       "      <th>2020-11-28 00:06:00+00:00</th>\n",
       "      <td>17111.351562</td>\n",
       "      <td>17111.351562</td>\n",
       "      <td>17111.351562</td>\n",
       "      <td>17111.351562</td>\n",
       "      <td>17111.351562</td>\n",
       "      <td>0</td>\n",
       "    </tr>\n",
       "    <tr>\n",
       "      <th>2020-11-28 00:07:00+00:00</th>\n",
       "      <td>17100.339844</td>\n",
       "      <td>17100.339844</td>\n",
       "      <td>17100.339844</td>\n",
       "      <td>17100.339844</td>\n",
       "      <td>17100.339844</td>\n",
       "      <td>42700800</td>\n",
       "    </tr>\n",
       "    <tr>\n",
       "      <th>2020-11-28 00:08:00+00:00</th>\n",
       "      <td>17100.080078</td>\n",
       "      <td>17100.080078</td>\n",
       "      <td>17100.080078</td>\n",
       "      <td>17100.080078</td>\n",
       "      <td>17100.080078</td>\n",
       "      <td>0</td>\n",
       "    </tr>\n",
       "    <tr>\n",
       "      <th>2020-11-28 00:09:00+00:00</th>\n",
       "      <td>17097.683594</td>\n",
       "      <td>17097.683594</td>\n",
       "      <td>17097.683594</td>\n",
       "      <td>17097.683594</td>\n",
       "      <td>17097.683594</td>\n",
       "      <td>0</td>\n",
       "    </tr>\n",
       "  </tbody>\n",
       "</table>\n",
       "</div>"
      ],
      "text/plain": [
       "                                   Open          High           Low  \\\n",
       "Datetime                                                              \n",
       "2020-11-28 00:00:00+00:00  17112.933594  17112.933594  17112.933594   \n",
       "2020-11-28 00:01:00+00:00  17134.396484  17134.396484  17134.396484   \n",
       "2020-11-28 00:02:00+00:00  17137.853516  17137.853516  17137.853516   \n",
       "2020-11-28 00:03:00+00:00  17131.585938  17131.585938  17131.585938   \n",
       "2020-11-28 00:04:00+00:00  17115.552734  17115.552734  17115.552734   \n",
       "2020-11-28 00:05:00+00:00  17111.421875  17111.421875  17111.421875   \n",
       "2020-11-28 00:06:00+00:00  17111.351562  17111.351562  17111.351562   \n",
       "2020-11-28 00:07:00+00:00  17100.339844  17100.339844  17100.339844   \n",
       "2020-11-28 00:08:00+00:00  17100.080078  17100.080078  17100.080078   \n",
       "2020-11-28 00:09:00+00:00  17097.683594  17097.683594  17097.683594   \n",
       "\n",
       "                                  Close     Adj Close    Volume  \n",
       "Datetime                                                         \n",
       "2020-11-28 00:00:00+00:00  17112.933594  17112.933594         0  \n",
       "2020-11-28 00:01:00+00:00  17134.396484  17134.396484         0  \n",
       "2020-11-28 00:02:00+00:00  17137.853516  17137.853516  39432192  \n",
       "2020-11-28 00:03:00+00:00  17131.585938  17131.585938  10248192  \n",
       "2020-11-28 00:04:00+00:00  17115.552734  17115.552734         0  \n",
       "2020-11-28 00:05:00+00:00  17111.421875  17111.421875         0  \n",
       "2020-11-28 00:06:00+00:00  17111.351562  17111.351562         0  \n",
       "2020-11-28 00:07:00+00:00  17100.339844  17100.339844  42700800  \n",
       "2020-11-28 00:08:00+00:00  17100.080078  17100.080078         0  \n",
       "2020-11-28 00:09:00+00:00  17097.683594  17097.683594         0  "
      ]
     },
     "execution_count": 5,
     "metadata": {},
     "output_type": "execute_result"
    }
   ],
   "source": [
    "df.head(10)"
   ]
  },
  {
   "cell_type": "code",
   "execution_count": 6,
   "metadata": {},
   "outputs": [
    {
     "data": {
      "text/html": [
       "<div>\n",
       "<style scoped>\n",
       "    .dataframe tbody tr th:only-of-type {\n",
       "        vertical-align: middle;\n",
       "    }\n",
       "\n",
       "    .dataframe tbody tr th {\n",
       "        vertical-align: top;\n",
       "    }\n",
       "\n",
       "    .dataframe thead th {\n",
       "        text-align: right;\n",
       "    }\n",
       "</style>\n",
       "<table border=\"1\" class=\"dataframe\">\n",
       "  <thead>\n",
       "    <tr style=\"text-align: right;\">\n",
       "      <th></th>\n",
       "      <th>Open</th>\n",
       "    </tr>\n",
       "    <tr>\n",
       "      <th>Datetime</th>\n",
       "      <th></th>\n",
       "    </tr>\n",
       "  </thead>\n",
       "  <tbody>\n",
       "    <tr>\n",
       "      <th>2020-11-28 00:00:00+00:00</th>\n",
       "      <td>17112.933594</td>\n",
       "    </tr>\n",
       "    <tr>\n",
       "      <th>2020-11-28 00:01:00+00:00</th>\n",
       "      <td>17134.396484</td>\n",
       "    </tr>\n",
       "    <tr>\n",
       "      <th>2020-11-28 00:02:00+00:00</th>\n",
       "      <td>17137.853516</td>\n",
       "    </tr>\n",
       "    <tr>\n",
       "      <th>2020-11-28 00:03:00+00:00</th>\n",
       "      <td>17131.585938</td>\n",
       "    </tr>\n",
       "    <tr>\n",
       "      <th>2020-11-28 00:04:00+00:00</th>\n",
       "      <td>17115.552734</td>\n",
       "    </tr>\n",
       "    <tr>\n",
       "      <th>...</th>\n",
       "      <td>...</td>\n",
       "    </tr>\n",
       "    <tr>\n",
       "      <th>2020-12-04 11:12:00+00:00</th>\n",
       "      <td>19050.150391</td>\n",
       "    </tr>\n",
       "    <tr>\n",
       "      <th>2020-12-04 11:13:00+00:00</th>\n",
       "      <td>19046.757812</td>\n",
       "    </tr>\n",
       "    <tr>\n",
       "      <th>2020-12-04 11:14:00+00:00</th>\n",
       "      <td>19047.859375</td>\n",
       "    </tr>\n",
       "    <tr>\n",
       "      <th>2020-12-04 11:15:00+00:00</th>\n",
       "      <td>19051.314453</td>\n",
       "    </tr>\n",
       "    <tr>\n",
       "      <th>2020-12-04 11:16:02+00:00</th>\n",
       "      <td>19070.630859</td>\n",
       "    </tr>\n",
       "  </tbody>\n",
       "</table>\n",
       "<p>8783 rows × 1 columns</p>\n",
       "</div>"
      ],
      "text/plain": [
       "                                   Open\n",
       "Datetime                               \n",
       "2020-11-28 00:00:00+00:00  17112.933594\n",
       "2020-11-28 00:01:00+00:00  17134.396484\n",
       "2020-11-28 00:02:00+00:00  17137.853516\n",
       "2020-11-28 00:03:00+00:00  17131.585938\n",
       "2020-11-28 00:04:00+00:00  17115.552734\n",
       "...                                 ...\n",
       "2020-12-04 11:12:00+00:00  19050.150391\n",
       "2020-12-04 11:13:00+00:00  19046.757812\n",
       "2020-12-04 11:14:00+00:00  19047.859375\n",
       "2020-12-04 11:15:00+00:00  19051.314453\n",
       "2020-12-04 11:16:02+00:00  19070.630859\n",
       "\n",
       "[8783 rows x 1 columns]"
      ]
     },
     "execution_count": 6,
     "metadata": {},
     "output_type": "execute_result"
    }
   ],
   "source": [
    "df[[\"Open\"]]"
   ]
  },
  {
   "cell_type": "markdown",
   "metadata": {},
   "source": [
    "### Get data for list of pairs"
   ]
  },
  {
   "cell_type": "code",
   "execution_count": 7,
   "metadata": {},
   "outputs": [
    {
     "name": "stdout",
     "output_type": "stream",
     "text": [
      "[*********************100%***********************]  1 of 1 completed\n",
      "[*********************100%***********************]  1 of 1 completed\n",
      "[*********************100%***********************]  1 of 1 completed\n",
      "[*********************100%***********************]  1 of 1 completed\n"
     ]
    }
   ],
   "source": [
    "ratios = [\"BTC-USD\",\"LTC-USD\",\"ETH-USD\",\"BCH-USD\"]\n",
    "\n",
    "def getData(ratios,period,interval):\n",
    "\n",
    "    df_to_return = pd.DataFrame()\n",
    "\n",
    "    for ratio in ratios:\n",
    "\n",
    "        df = pdr.get_data_yahoo(ratio,period=period,interval= interval)\n",
    "        df.rename(columns={\"Close\": f\"{ratio}_close\"}, inplace=True)\n",
    "\n",
    "        df = df[[f\"{ratio}_close\"]]\n",
    "        \n",
    "        if len(df_to_return) == 0:\n",
    "\n",
    "            df_to_return = df\n",
    "        else:\n",
    "            df_to_return = df_to_return.join(df)\n",
    "    \n",
    "    \n",
    "    return df_to_return        \n",
    "    \n",
    "    \n",
    "mydf = getData(ratios,\"7d\",\"1m\")"
   ]
  },
  {
   "cell_type": "code",
   "execution_count": 8,
   "metadata": {},
   "outputs": [
    {
     "data": {
      "text/html": [
       "<div>\n",
       "<style scoped>\n",
       "    .dataframe tbody tr th:only-of-type {\n",
       "        vertical-align: middle;\n",
       "    }\n",
       "\n",
       "    .dataframe tbody tr th {\n",
       "        vertical-align: top;\n",
       "    }\n",
       "\n",
       "    .dataframe thead th {\n",
       "        text-align: right;\n",
       "    }\n",
       "</style>\n",
       "<table border=\"1\" class=\"dataframe\">\n",
       "  <thead>\n",
       "    <tr style=\"text-align: right;\">\n",
       "      <th></th>\n",
       "      <th>BTC-USD_close</th>\n",
       "      <th>LTC-USD_close</th>\n",
       "      <th>ETH-USD_close</th>\n",
       "      <th>BCH-USD_close</th>\n",
       "    </tr>\n",
       "    <tr>\n",
       "      <th>Datetime</th>\n",
       "      <th></th>\n",
       "      <th></th>\n",
       "      <th></th>\n",
       "      <th></th>\n",
       "    </tr>\n",
       "  </thead>\n",
       "  <tbody>\n",
       "    <tr>\n",
       "      <th>2020-11-28 00:00:00+00:00</th>\n",
       "      <td>17112.933594</td>\n",
       "      <td>69.131828</td>\n",
       "      <td>517.597351</td>\n",
       "      <td>NaN</td>\n",
       "    </tr>\n",
       "    <tr>\n",
       "      <th>2020-11-28 00:01:00+00:00</th>\n",
       "      <td>17134.396484</td>\n",
       "      <td>69.234230</td>\n",
       "      <td>518.914673</td>\n",
       "      <td>265.426392</td>\n",
       "    </tr>\n",
       "    <tr>\n",
       "      <th>2020-11-28 00:02:00+00:00</th>\n",
       "      <td>17137.853516</td>\n",
       "      <td>69.233238</td>\n",
       "      <td>519.019958</td>\n",
       "      <td>265.477417</td>\n",
       "    </tr>\n",
       "    <tr>\n",
       "      <th>2020-11-28 00:03:00+00:00</th>\n",
       "      <td>17131.585938</td>\n",
       "      <td>69.217033</td>\n",
       "      <td>518.710938</td>\n",
       "      <td>NaN</td>\n",
       "    </tr>\n",
       "    <tr>\n",
       "      <th>2020-11-28 00:04:00+00:00</th>\n",
       "      <td>17115.552734</td>\n",
       "      <td>69.222855</td>\n",
       "      <td>518.137695</td>\n",
       "      <td>265.233459</td>\n",
       "    </tr>\n",
       "    <tr>\n",
       "      <th>2020-11-28 00:05:00+00:00</th>\n",
       "      <td>17111.421875</td>\n",
       "      <td>69.190521</td>\n",
       "      <td>517.842163</td>\n",
       "      <td>265.132324</td>\n",
       "    </tr>\n",
       "    <tr>\n",
       "      <th>2020-11-28 00:06:00+00:00</th>\n",
       "      <td>17111.351562</td>\n",
       "      <td>69.183517</td>\n",
       "      <td>517.911255</td>\n",
       "      <td>265.117981</td>\n",
       "    </tr>\n",
       "    <tr>\n",
       "      <th>2020-11-28 00:07:00+00:00</th>\n",
       "      <td>17100.339844</td>\n",
       "      <td>68.894203</td>\n",
       "      <td>516.644348</td>\n",
       "      <td>264.463135</td>\n",
       "    </tr>\n",
       "    <tr>\n",
       "      <th>2020-11-28 00:08:00+00:00</th>\n",
       "      <td>17100.080078</td>\n",
       "      <td>68.881447</td>\n",
       "      <td>516.602356</td>\n",
       "      <td>264.424103</td>\n",
       "    </tr>\n",
       "    <tr>\n",
       "      <th>2020-11-28 00:09:00+00:00</th>\n",
       "      <td>17097.683594</td>\n",
       "      <td>68.854698</td>\n",
       "      <td>516.545776</td>\n",
       "      <td>264.403992</td>\n",
       "    </tr>\n",
       "  </tbody>\n",
       "</table>\n",
       "</div>"
      ],
      "text/plain": [
       "                           BTC-USD_close  LTC-USD_close  ETH-USD_close  \\\n",
       "Datetime                                                                 \n",
       "2020-11-28 00:00:00+00:00   17112.933594      69.131828     517.597351   \n",
       "2020-11-28 00:01:00+00:00   17134.396484      69.234230     518.914673   \n",
       "2020-11-28 00:02:00+00:00   17137.853516      69.233238     519.019958   \n",
       "2020-11-28 00:03:00+00:00   17131.585938      69.217033     518.710938   \n",
       "2020-11-28 00:04:00+00:00   17115.552734      69.222855     518.137695   \n",
       "2020-11-28 00:05:00+00:00   17111.421875      69.190521     517.842163   \n",
       "2020-11-28 00:06:00+00:00   17111.351562      69.183517     517.911255   \n",
       "2020-11-28 00:07:00+00:00   17100.339844      68.894203     516.644348   \n",
       "2020-11-28 00:08:00+00:00   17100.080078      68.881447     516.602356   \n",
       "2020-11-28 00:09:00+00:00   17097.683594      68.854698     516.545776   \n",
       "\n",
       "                           BCH-USD_close  \n",
       "Datetime                                  \n",
       "2020-11-28 00:00:00+00:00            NaN  \n",
       "2020-11-28 00:01:00+00:00     265.426392  \n",
       "2020-11-28 00:02:00+00:00     265.477417  \n",
       "2020-11-28 00:03:00+00:00            NaN  \n",
       "2020-11-28 00:04:00+00:00     265.233459  \n",
       "2020-11-28 00:05:00+00:00     265.132324  \n",
       "2020-11-28 00:06:00+00:00     265.117981  \n",
       "2020-11-28 00:07:00+00:00     264.463135  \n",
       "2020-11-28 00:08:00+00:00     264.424103  \n",
       "2020-11-28 00:09:00+00:00     264.403992  "
      ]
     },
     "execution_count": 8,
     "metadata": {},
     "output_type": "execute_result"
    }
   ],
   "source": [
    "mydf.head(10)"
   ]
  },
  {
   "cell_type": "markdown",
   "metadata": {},
   "source": [
    "Save data to specific file"
   ]
  },
  {
   "cell_type": "code",
   "execution_count": 9,
   "metadata": {},
   "outputs": [
    {
     "name": "stdout",
     "output_type": "stream",
     "text": [
      "2020_12_04_12_18_21\n"
     ]
    }
   ],
   "source": [
    "time = dt.datetime.now().strftime(\"%Y_%m_%d_%H_%M_%S\")\n",
    "print(time)\n",
    "mydf.to_csv(f'crypto_data\\\\{time}.csv')"
   ]
  }
 ],
 "metadata": {
  "kernelspec": {
   "display_name": "Python 3",
   "language": "python",
   "name": "python3"
  },
  "language_info": {
   "codemirror_mode": {
    "name": "ipython",
    "version": 3
   },
   "file_extension": ".py",
   "mimetype": "text/x-python",
   "name": "python",
   "nbconvert_exporter": "python",
   "pygments_lexer": "ipython3",
   "version": "3.8.8"
  }
 },
 "nbformat": 4,
 "nbformat_minor": 4
}
