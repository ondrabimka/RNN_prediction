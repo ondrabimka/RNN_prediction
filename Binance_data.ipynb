{
 "cells": [
  {
   "cell_type": "markdown",
   "metadata": {},
   "source": [
    "### Getting data from binance with its api\n",
    "\n",
    "Python library.\n",
    "https://github.com/sammchardy/python-binance\n",
    "\n",
    "Code based on\n",
    "https://medium.com/swlh/retrieving-full-historical-data-for-every-cryptocurrency-on-binance-bitmex-using-the-python-apis-27b47fd8137f"
   ]
  },
  {
   "cell_type": "markdown",
   "metadata": {},
   "source": [
    "#### Import libraries"
   ]
  },
  {
   "cell_type": "code",
   "execution_count": 2,
   "metadata": {},
   "outputs": [],
   "source": [
    "import pandas as pd\n",
    "import math\n",
    "import os.path\n",
    "import time\n",
    "from binance.client import Client\n",
    "from datetime import timedelta, datetime\n",
    "from dateutil import parser\n",
    "import json"
   ]
  },
  {
   "cell_type": "markdown",
   "metadata": {},
   "source": [
    "#### Binance keys"
   ]
  },
  {
   "cell_type": "code",
   "execution_count": 3,
   "metadata": {},
   "outputs": [],
   "source": [
    "## Load credentials from json file\n",
    "cr = open('cred.json',) \n",
    "data = json.load(cr)  "
   ]
  },
  {
   "cell_type": "code",
   "execution_count": 7,
   "metadata": {},
   "outputs": [],
   "source": [
    "### CONSTANTS\n",
    "\n",
    "binsizes = {\"1m\": 1, \"5m\": 5, \"1h\": 60, \"1d\": 1440}\n",
    "batch_size = 750\n",
    "\n",
    "## Client\n",
    "binance_client = Client(api_key=data[\"binance_api_key\"], api_secret=data[\"binance_api_secret\"])"
   ]
  },
  {
   "cell_type": "markdown",
   "metadata": {},
   "source": [
    "#### Functions"
   ]
  },
  {
   "cell_type": "code",
   "execution_count": 8,
   "metadata": {},
   "outputs": [],
   "source": [
    "def minutes_of_new_data(symbol, kline_size, data, source):\n",
    "    if len(data) > 0:  \n",
    "        old = parser.parse(data[\"timestamp\"].iloc[-1])\n",
    "    elif source == \"binance\": \n",
    "        old = datetime.strptime(\"1 May 2020\", \"%d %b %Y\")\n",
    "    if source == \"binance\": \n",
    "        new = pd.to_datetime(binance_client.get_klines(symbol=symbol, interval=kline_size)[-1][0], unit=\"ms\") \n",
    "    return old, new\n",
    "\n",
    "\n",
    "\n",
    "def get_all_binance(symbol, kline_size, save = False):\n",
    "    \n",
    "    filename = \"crypto_data/%s-%s-data.csv\" % (symbol, kline_size)\n",
    "    \n",
    "    ## If file exists \n",
    "    if os.path.isfile(filename): \n",
    "        data_df = pd.read_csv(filename)\n",
    "    else: \n",
    "        data_df = pd.DataFrame()\n",
    "        \n",
    "    oldest_point, newest_point = minutes_of_new_data(symbol, kline_size, data_df, source = \"binance\")\n",
    "    \n",
    "    delta_min = (newest_point - oldest_point).total_seconds()/60\n",
    "    \n",
    "    available_data = math.ceil(delta_min/binsizes[kline_size])\n",
    "    \n",
    "    if oldest_point == datetime.strptime(\"1 May 2020\", \"%d %b %Y\"): \n",
    "        print(\"Downloading all available %s data for %s. Be patient..!\" % (kline_size, symbol))\n",
    "        \n",
    "    else: \n",
    "        print(\"Downloading %d minutes of new data available for %s, i.e. %d instances of %s data.\" % (delta_min, symbol, available_data, kline_size))\n",
    "        \n",
    "    klines = binance_client.get_historical_klines(symbol, kline_size, oldest_point.strftime(\"%d %b %Y %H:%M:%S\"), newest_point.strftime(\"%d %b %Y %H:%M:%S\"))\n",
    "    \n",
    "    data = pd.DataFrame(klines, columns = [\"timestamp\", \"open\", \"high\", \"low\", \"close\", \"volume\", \"close_time\", \"quote_av\", \"trades\", \"tb_base_av\", \"tb_quote_av\", \"ignore\"])\n",
    "    \n",
    "    data[\"timestamp\"] = pd.to_datetime(data[\"timestamp\"], unit=\"ms\")\n",
    "    \n",
    "    if len(data_df) > 0:\n",
    "        temp_df = pd.DataFrame(data)\n",
    "        data_df = data_df.append(temp_df)\n",
    "    else: \n",
    "        data_df = data\n",
    "        \n",
    "    data_df.set_index(\"timestamp\", inplace=True)\n",
    "    \n",
    "    if save: \n",
    "        data_df.to_csv(filename)\n",
    "        \n",
    "    print(\"All caught up..!\")\n",
    "    \n",
    "    return data_df"
   ]
  },
  {
   "cell_type": "markdown",
   "metadata": {},
   "source": [
    "#### Getting data"
   ]
  },
  {
   "cell_type": "code",
   "execution_count": 13,
   "metadata": {},
   "outputs": [
    {
     "name": "stdout",
     "output_type": "stream",
     "text": [
      "Downloading all available 1m data for NEOBUSD. Be patient..!\n",
      "All caught up..!\n",
      "Downloading all available 1m data for LINKBUSD. Be patient..!\n",
      "All caught up..!\n"
     ]
    }
   ],
   "source": [
    "\"\"\" \n",
    "binance_symbols = ['ZECBUSD',\n",
    " 'NEOBUSD',\n",
    " 'ETCBUSD',\n",
    " 'LTCBUSD',\n",
    " 'EOSBUSD',\n",
    " 'FLMBUSD',\n",
    " 'YFIIBUSD',\n",
    " 'BZRXBUSD',\n",
    " 'BANDBUSD',\n",
    " 'GRTBUSD',\n",
    " 'ZRXBUSD',\n",
    " 'RSRBUSD',\n",
    " 'SXPBUSD',\n",
    " 'LINKBUSD',\n",
    " 'ETHBUSD',\n",
    " 'TWTBUSD',\n",
    " 'ZILBUSD',\n",
    " 'TRUBUSD',\n",
    " 'AAVEBUSD',\n",
    " 'BCHBUSD',\n",
    " 'DODOBUSD',\n",
    " 'OMGBUSD',\n",
    " 'LRCBUSD',\n",
    " 'BTTBUSD',\n",
    " 'RUNEBUSD',\n",
    " 'YFIBUSD',\n",
    " 'NANOBUSD',\n",
    " 'KSMBUSD',\n",
    " 'ALGOBUSD']\n",
    " \n",
    "\"\"\" \n",
    "binance_symbols = [\"NEOBUSD\",\"LINKBUSD\"]\n",
    "\n",
    "for symbol in binance_symbols:\n",
    "    get_all_binance(symbol, '1m', save = True)"
   ]
  }
 ],
 "metadata": {
  "kernelspec": {
   "display_name": "Python 3",
   "language": "python",
   "name": "python3"
  },
  "language_info": {
   "codemirror_mode": {
    "name": "ipython",
    "version": 3
   },
   "file_extension": ".py",
   "mimetype": "text/x-python",
   "name": "python",
   "nbconvert_exporter": "python",
   "pygments_lexer": "ipython3",
   "version": "3.8.8"
  }
 },
 "nbformat": 4,
 "nbformat_minor": 4
}
